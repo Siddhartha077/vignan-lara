{
 "cells": [
  {
   "cell_type": "markdown",
   "metadata": {},
   "source": [
    "### object oriented programming language\n",
    "* classes\n",
    "      syntax: class classname:\n",
    "                  '''documentation'''\n",
    "               variables\n",
    "               methods\n",
    "      Rules:should be capital\n",
    "            doesn't allow spaces\n",
    "            doesn't allow keywords\n",
    "            \n",
    "* objects\n",
    "* constructors\n",
    "* inheritance\n",
    "* packages and modules using oops"
   ]
  },
  {
   "cell_type": "code",
   "execution_count": 1,
   "metadata": {},
   "outputs": [
    {
     "name": "stdout",
     "output_type": "stream",
     "text": [
      "siddu\n"
     ]
    }
   ],
   "source": [
    "class A:\n",
    "    a='siddu'\n",
    "    print(a)"
   ]
  },
  {
   "cell_type": "code",
   "execution_count": 6,
   "metadata": {},
   "outputs": [
    {
     "name": "stdout",
     "output_type": "stream",
     "text": [
      "10\n",
      "from exmp function\n",
      "None\n"
     ]
    }
   ],
   "source": [
    "class exm:\n",
    "    a=10\n",
    "    def exmp():\n",
    "        return 'from exmp function'\n",
    "        #print('from exmp function')\n",
    "print(exm.a)\n",
    "print(exm.exmp())\n",
    "print(exm.__doc__)\n",
    "        "
   ]
  },
  {
   "cell_type": "code",
   "execution_count": 16,
   "metadata": {},
   "outputs": [
    {
     "name": "stdout",
     "output_type": "stream",
     "text": [
      "factorial: 120\n"
     ]
    }
   ],
   "source": [
    "class A:\n",
    "    def factorial(self,a):\n",
    "        fact=1\n",
    "        for i in range(1,a+1):\n",
    "            fact=fact*i\n",
    "        print(\"factorial:\",fact)\n",
    "a=A()\n",
    "a.factorial(5)\n",
    "   "
   ]
  },
  {
   "cell_type": "code",
   "execution_count": 18,
   "metadata": {},
   "outputs": [
    {
     "name": "stdout",
     "output_type": "stream",
     "text": [
      "2 prime number\n"
     ]
    }
   ],
   "source": [
    "class A:                                            \n",
    "    def prime(self,n):\n",
    "        count=0\n",
    "        for i in range(1,n+1):\n",
    "            if n%i==0:\n",
    "                count+=1\n",
    "        if count==2:\n",
    "            print(n,\"prime number\")\n",
    "        else:\n",
    "            print(n,\"is not a prime number\")\n",
    "n=A()\n",
    "n.prime(2)"
   ]
  },
  {
   "cell_type": "code",
   "execution_count": 21,
   "metadata": {},
   "outputs": [
    {
     "name": "stdout",
     "output_type": "stream",
     "text": [
      "using only self\n",
      "from show func..... <__main__.A object at 0x031EDDD8>\n"
     ]
    }
   ],
   "source": [
    "class A:\n",
    "    def __init__(self):\n",
    "        print(\"using only self\")\n",
    "    def show(name):\n",
    "        print('from show func.....',name)\n",
    "np=A()\n",
    "np.show()"
   ]
  },
  {
   "cell_type": "code",
   "execution_count": 23,
   "metadata": {},
   "outputs": [
    {
     "name": "stdout",
     "output_type": "stream",
     "text": [
      "from second cons\n"
     ]
    }
   ],
   "source": [
    "class multicons():\n",
    "    def __init__(self):\n",
    "        print('from first cons')\n",
    "    def __init__(self):\n",
    "        print('from second cons')\n",
    "a=multicons()"
   ]
  },
  {
   "cell_type": "code",
   "execution_count": 24,
   "metadata": {},
   "outputs": [
    {
     "name": "stdout",
     "output_type": "stream",
     "text": [
      "from child class\n",
      "from parent class\n"
     ]
    }
   ],
   "source": [
    "#single inheritance\n",
    "class A():\n",
    "    a=1\n",
    "    def ca():\n",
    "        return 'from parent class' \n",
    "class B(A):\n",
    "    b=2\n",
    "    def cb():\n",
    "        return 'from child class'\n",
    "obj=B\n",
    "print(obj.cb())\n",
    "print(obj.ca())\n",
    "    "
   ]
  },
  {
   "cell_type": "code",
   "execution_count": 26,
   "metadata": {},
   "outputs": [
    {
     "name": "stdout",
     "output_type": "stream",
     "text": [
      "from class c\n",
      "from child class\n",
      "from parent class\n"
     ]
    }
   ],
   "source": [
    "#multi-level\n",
    "class A():\n",
    "    a=1\n",
    "    def ca():\n",
    "        return 'from parent class' \n",
    "class B(A):\n",
    "    b=2\n",
    "    def cb():\n",
    "        return 'from child class'\n",
    "class C(B):\n",
    "    c=4\n",
    "    def cc():\n",
    "        return 'from class c' \n",
    "obj=C\n",
    "print(obj.cc())\n",
    "print(obj.cb())\n",
    "print(obj.ca())\n",
    "    "
   ]
  },
  {
   "cell_type": "code",
   "execution_count": 27,
   "metadata": {},
   "outputs": [
    {
     "name": "stdout",
     "output_type": "stream",
     "text": [
      "from class c\n",
      "from child class\n",
      "from parent class\n"
     ]
    }
   ],
   "source": [
    "#multiple\n",
    "class A():\n",
    "    a=1\n",
    "    def ca():\n",
    "        return 'from parent class' \n",
    "class B():\n",
    "    b=2\n",
    "    def cb():\n",
    "        return 'from child class'\n",
    "class C(A,B):\n",
    "    c=4\n",
    "    def cc():\n",
    "        return 'from class c' \n",
    "obj=C\n",
    "print(obj.cc())\n",
    "print(obj.cb())\n",
    "print(obj.ca())\n",
    "    "
   ]
  },
  {
   "cell_type": "code",
   "execution_count": 1,
   "metadata": {},
   "outputs": [
    {
     "data": {
      "text/plain": [
       "15"
      ]
     },
     "execution_count": 1,
     "metadata": {},
     "output_type": "execute_result"
    }
   ],
   "source": [
    "from package.module import MyMath\n",
    "ob=MyMath(7,8)\n",
    "ob.add()"
   ]
  },
  {
   "cell_type": "code",
   "execution_count": null,
   "metadata": {},
   "outputs": [],
   "source": []
  },
  {
   "cell_type": "code",
   "execution_count": null,
   "metadata": {},
   "outputs": [],
   "source": []
  }
 ],
 "metadata": {
  "kernelspec": {
   "display_name": "Python 3",
   "language": "python",
   "name": "python3"
  },
  "language_info": {
   "codemirror_mode": {
    "name": "ipython",
    "version": 3
   },
   "file_extension": ".py",
   "mimetype": "text/x-python",
   "name": "python",
   "nbconvert_exporter": "python",
   "pygments_lexer": "ipython3",
   "version": "3.8.5"
  }
 },
 "nbformat": 4,
 "nbformat_minor": 4
}
